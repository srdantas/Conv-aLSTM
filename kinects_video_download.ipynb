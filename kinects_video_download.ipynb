{
 "cells": [
  {
   "cell_type": "markdown",
   "metadata": {},
   "source": [
    "# Video Donwload\n",
    "This script is used to download videos from kinects dataset.\n",
    "\n",
    "**Has a python class with a class helper builder from this in classpath.**\n",
    "___"
   ]
  },
  {
   "cell_type": "markdown",
   "metadata": {},
   "source": [
    "Kinectis dataset\n",
    "- [Official Page](https://deepmind.com/research/open-source/kinetics)\n",
    "- [Paper](https://arxiv.org/abs/1907.06987)"
   ]
  },
  {
   "cell_type": "markdown",
   "metadata": {},
   "source": [
    "## Download the zip\n",
    "Make a download resources and save it in dataset path."
   ]
  },
  {
   "cell_type": "code",
   "execution_count": 1,
   "metadata": {},
   "outputs": [
    {
     "name": "stderr",
     "output_type": "stream",
     "text": [
      "  % Total    % Received % Xferd  Average Speed   Time    Time     Time  Current\n",
      "                                 Dload  Upload   Total   Spent    Left  Speed\n",
      "\r",
      "  0     0    0     0    0     0      0      0 --:--:-- --:--:-- --:--:--     0\r",
      "  4 21.7M    4  946k    0     0  1121k      0  0:00:19 --:--:--  0:00:19 1119k\r",
      " 50 21.7M   50 10.9M    0     0  6091k      0  0:00:03  0:00:01  0:00:02 6087k\r",
      " 97 21.7M   97 21.2M    0     0  7634k      0  0:00:02  0:00:02 --:--:-- 7631k\r",
      "100 21.7M  100 21.7M    0     0  7711k      0  0:00:02  0:00:02 --:--:-- 7709k\n"
     ]
    }
   ],
   "source": [
    "%%bash\n",
    "mkdir dataset\n",
    "curl https://storage.googleapis.com/deepmind-media/research/Kinetics_700.zip --output dataset/kinects_700.zip"
   ]
  },
  {
   "cell_type": "markdown",
   "metadata": {},
   "source": [
    "extract the infos from zip file"
   ]
  },
  {
   "cell_type": "code",
   "execution_count": 2,
   "metadata": {},
   "outputs": [
    {
     "name": "stdout",
     "output_type": "stream",
     "text": [
      "Archive:  kinects_700.zip\n",
      "  inflating: kinetics_700_readme.txt  \n",
      "   creating: __MACOSX/\n",
      "  inflating: __MACOSX/._kinetics_700_readme.txt  \n",
      "  inflating: kinetics_700_train.zip  \n",
      "  inflating: __MACOSX/._kinetics_700_train.zip  \n",
      "  inflating: kinetics_700_test.zip   \n",
      "  inflating: __MACOSX/._kinetics_700_test.zip  \n",
      "  inflating: kinetics_700_val.zip    \n",
      "  inflating: __MACOSX/._kinetics_700_val.zip  \n"
     ]
    }
   ],
   "source": [
    "%%bash\n",
    "cd dataset\n",
    "unzip kinects_700.zip"
   ]
  },
  {
   "cell_type": "code",
   "execution_count": 3,
   "metadata": {},
   "outputs": [
    {
     "name": "stdout",
     "output_type": "stream",
     "text": [
      "Archive:  kinetics_700_train.zip\n",
      "  inflating: kinetics_700_train.csv  \n",
      "  inflating: kinetics_700_train.json  \n",
      "Archive:  kinetics_700_test.zip\n",
      "  inflating: kinetics_700_test.csv   \n",
      "  inflating: kinetics_700_test.json  \n",
      "Archive:  kinetics_700_val.zip\n",
      "  inflating: kinetics_700_val.csv    \n",
      "  inflating: kinetics_700_val.json   \n"
     ]
    }
   ],
   "source": [
    "%%bash\n",
    "cd dataset\n",
    "unzip kinetics_700_train.zip\n",
    "unzip kinetics_700_test.zip\n",
    "unzip kinetics_700_val.zip"
   ]
  },
  {
   "cell_type": "markdown",
   "metadata": {},
   "source": [
    "## Create variables\n",
    "Create variables with const values"
   ]
  },
  {
   "cell_type": "code",
   "execution_count": 1,
   "metadata": {},
   "outputs": [],
   "source": [
    "import os"
   ]
  },
  {
   "cell_type": "markdown",
   "metadata": {},
   "source": [
    "This method allow we to create child fonders in `path` and return a dict when key is folder name and value is a path to it."
   ]
  },
  {
   "cell_type": "code",
   "execution_count": 2,
   "metadata": {},
   "outputs": [],
   "source": [
    "def create_file_structure(path, folders_names):\n",
    "    mapping = {}\n",
    "    if not os.path.exists(path):\n",
    "        os.mkdir(path)\n",
    "    for name in folders_names:\n",
    "        dir_ = os.path.join(path, name)\n",
    "        if not os.path.exists(dir_):\n",
    "            os.mkdir(dir_)\n",
    "        mapping[name] = dir_\n",
    "    return mapping"
   ]
  },
  {
   "cell_type": "code",
   "execution_count": 3,
   "metadata": {},
   "outputs": [],
   "source": [
    "URL_BASE = 'https://www.youtube.com/watch?v='\n",
    "\n",
    "VIDEO_EXTENSION = '.mp4'\n",
    "VIDEO_FORMAT = 'mp4'"
   ]
  },
  {
   "cell_type": "code",
   "execution_count": 4,
   "metadata": {},
   "outputs": [],
   "source": [
    "TRAIN_FOLDER = 'train'\n",
    "VALIDATE_FOLDER = 'validate'\n",
    "TEST_FOLDER = 'test'"
   ]
  },
  {
   "cell_type": "code",
   "execution_count": 5,
   "metadata": {},
   "outputs": [],
   "source": [
    "BASE_PATH = os.path.join('/', 'home', os.environ['USER'], 'kinects')"
   ]
  },
  {
   "cell_type": "markdown",
   "metadata": {},
   "source": [
    "### Create files\n",
    "this files is used for save the videos after download"
   ]
  },
  {
   "cell_type": "code",
   "execution_count": 6,
   "metadata": {},
   "outputs": [
    {
     "name": "stdout",
     "output_type": "stream",
     "text": [
      "Path /home/renato/kinects already exists!\n"
     ]
    }
   ],
   "source": [
    "if not os.path.exists(BASE_PATH):\n",
    "    os.mkdir(BASE_PATH)\n",
    "else:\n",
    "    print(f'Path {BASE_PATH} already exists!')"
   ]
  },
  {
   "cell_type": "code",
   "execution_count": 7,
   "metadata": {},
   "outputs": [],
   "source": [
    "# file to save train, validate and test\n",
    "folders = create_file_structure(BASE_PATH, [TRAIN_FOLDER, VALIDATE_FOLDER, TEST_FOLDER])"
   ]
  },
  {
   "cell_type": "code",
   "execution_count": 8,
   "metadata": {},
   "outputs": [
    {
     "data": {
      "text/plain": [
       "{'train': '/home/renato/kinects/train',\n",
       " 'validate': '/home/renato/kinects/validate',\n",
       " 'test': '/home/renato/kinects/test'}"
      ]
     },
     "execution_count": 8,
     "metadata": {},
     "output_type": "execute_result"
    }
   ],
   "source": [
    "folders"
   ]
  },
  {
   "cell_type": "markdown",
   "metadata": {},
   "source": [
    "## Video Trimming\n",
    "That method is used to trimming videos before download"
   ]
  },
  {
   "cell_type": "code",
   "execution_count": 9,
   "metadata": {},
   "outputs": [],
   "source": [
    "import subprocess\n",
    "import ffmpeg"
   ]
  },
  {
   "cell_type": "code",
   "execution_count": 10,
   "metadata": {},
   "outputs": [],
   "source": [
    "def trim(row, label_to_dir, test=False):\n",
    "    label = row['label'] if not test else ''\n",
    "    filename = row['youtube_id']\n",
    "    time_start = row['time_start']\n",
    "    time_end = row['time_end']\n",
    "\n",
    "    input_filename = os.path.join(label_to_dir['tmp'], f'{filename}{VIDEO_EXTENSION}')\n",
    "    output_filename = os.path.join(label_to_dir[label], f'{filename}{VIDEO_EXTENSION}')\n",
    "\n",
    "    if os.path.exists(output_filename):\n",
    "        print('Already trimmed: ', filename)\n",
    "    else:\n",
    "        print('Start trimming: ', filename)\n",
    "\n",
    "        try:\n",
    "            ffmpeg.trim(ffmpeg.input(input_filename), start=time_start, end=time_end).output(\n",
    "                output_filename).run()\n",
    "        except Exception as e:\n",
    "            print(f'Error in trimming: {e}')\n",
    "\n",
    "        print('Finish trimming: ', filename)"
   ]
  },
  {
   "cell_type": "markdown",
   "metadata": {},
   "source": [
    "## Method to video download\n",
    "Make a download of a video"
   ]
  },
  {
   "cell_type": "code",
   "execution_count": 11,
   "metadata": {},
   "outputs": [],
   "source": [
    "import pandas as pd\n",
    "import pytube"
   ]
  },
  {
   "cell_type": "code",
   "execution_count": 12,
   "metadata": {},
   "outputs": [],
   "source": [
    "def download_clip(row, label_to_dir, test=False):\n",
    "    filename = row['youtube_id']\n",
    "\n",
    "    if not os.path.exists(os.path.join(label_to_dir['tmp'], filename + VIDEO_EXTENSION)):\n",
    "        print('Start downloading: ', filename)\n",
    "        try:\n",
    "            pytube.YouTube(URL_BASE + filename) \\\n",
    "                .streams \\\n",
    "                .filter(subtype=VIDEO_FORMAT) \\\n",
    "                .first() \\\n",
    "                .download(label_to_dir['tmp'], filename)\n",
    "            print('Finish downloading: ', filename)\n",
    "        except KeyError as e:\n",
    "            print(f'Key Error {e}')\n",
    "            return\n",
    "        except Exception as e:\n",
    "            print(f'Error in download video: {e}')\n",
    "            return\n",
    "    else:\n",
    "        print('Already downloaded: ', filename)"
   ]
  },
  {
   "cell_type": "markdown",
   "metadata": {},
   "source": [
    "## Donwload\n",
    "Create a method to make a download and trim the videos. Repair that I delete the `tmp` file."
   ]
  },
  {
   "cell_type": "code",
   "execution_count": 13,
   "metadata": {},
   "outputs": [],
   "source": [
    "import shutil"
   ]
  },
  {
   "cell_type": "code",
   "execution_count": 14,
   "metadata": {},
   "outputs": [],
   "source": [
    "def download(path_csv, target, heads=5, test=False):\n",
    "    links_data_frames = pd.read_csv(path_csv).head(heads)\n",
    "\n",
    "    if not test:\n",
    "        folders_names = links_data_frames['label'].unique().tolist() + ['tmp']\n",
    "        label_to_dir = create_file_structure(path=target, folders_names=folders_names)\n",
    "\n",
    "        [download_clip(row, label_to_dir) for _, row in links_data_frames.iterrows()]\n",
    "        [trim(row, label_to_dir) for _, row in links_data_frames.iterrows()]\n",
    "\n",
    "        shutil.rmtree(label_to_dir['tmp'])\n",
    "    else:\n",
    "        folders_names = ['tmp', '']\n",
    "        label_to_dir = create_file_structure(path=target, folders_names=folders_names)\n",
    "\n",
    "        [download_clip(row, label_to_dir) for _, row in links_data_frames.iterrows()]\n",
    "        [trim(row, label_to_dir, test=True) for _, row in links_data_frames.iterrows()]\n",
    "\n",
    "        shutil.rmtree(label_to_dir['tmp'])"
   ]
  },
  {
   "cell_type": "markdown",
   "metadata": {},
   "source": [
    "### Download of Train test\n",
    "Make a test download of a five videos from train\n",
    "___\n",
    "\n",
    "The videos path is `dataset/kinetics_700_train.csv` and the target path is the variable `TRAIN_VIDEOS_PATH`."
   ]
  },
  {
   "cell_type": "code",
   "execution_count": 15,
   "metadata": {},
   "outputs": [
    {
     "name": "stdout",
     "output_type": "stream",
     "text": [
      "Start downloading:  oJCxnjaCoyI\n",
      "Error in download video: <urlopen error [SSL: CERTIFICATE_VERIFY_FAILED] certificate verify failed: unable to get local issuer certificate (_ssl.c:1076)>\n",
      "Start downloading:  XtbeP16BJdQ\n",
      "Error in download video: <urlopen error [SSL: CERTIFICATE_VERIFY_FAILED] certificate verify failed: unable to get local issuer certificate (_ssl.c:1076)>\n",
      "Start downloading:  XXulvmGzw60\n",
      "Error in download video: <urlopen error [SSL: CERTIFICATE_VERIFY_FAILED] certificate verify failed: unable to get local issuer certificate (_ssl.c:1076)>\n",
      "Start downloading:  -3B32lodo2M\n",
      "Error in download video: <urlopen error [SSL: CERTIFICATE_VERIFY_FAILED] certificate verify failed: unable to get local issuer certificate (_ssl.c:1076)>\n",
      "Start downloading:  -7kbO0v4hag\n",
      "Error in download video: <urlopen error [SSL: CERTIFICATE_VERIFY_FAILED] certificate verify failed: unable to get local issuer certificate (_ssl.c:1076)>\n",
      "Already trimmed:  oJCxnjaCoyI\n",
      "Already trimmed:  XtbeP16BJdQ\n",
      "Already trimmed:  XXulvmGzw60\n",
      "Start trimming:  -3B32lodo2M\n",
      "Error in trimming: ffmpeg error (see stderr output for detail)\n",
      "Finish trimming:  -3B32lodo2M\n",
      "Already trimmed:  -7kbO0v4hag\n"
     ]
    }
   ],
   "source": [
    "download('dataset/kinetics_700_train.csv', folders['train'])"
   ]
  },
  {
   "cell_type": "markdown",
   "metadata": {},
   "source": [
    "### Download of Validate test\n",
    "Make a test download of a five videos from train\n",
    "___\n",
    "\n",
    "The videos path is `dataset/kinetics_700_val.csv` and the target path is the variable `VALIDATE_VIDEOS_PATH`."
   ]
  },
  {
   "cell_type": "code",
   "execution_count": 16,
   "metadata": {},
   "outputs": [
    {
     "name": "stdout",
     "output_type": "stream",
     "text": [
      "Start downloading:  ixq5OGYjjmA\n",
      "Error in download video: <urlopen error [SSL: CERTIFICATE_VERIFY_FAILED] certificate verify failed: unable to get local issuer certificate (_ssl.c:1076)>\n",
      "Start downloading:  j2_AKSjeQy0\n",
      "Error in download video: <urlopen error [SSL: CERTIFICATE_VERIFY_FAILED] certificate verify failed: unable to get local issuer certificate (_ssl.c:1076)>\n",
      "Start downloading:  J_faWIyCzdc\n",
      "Error in download video: <urlopen error [SSL: CERTIFICATE_VERIFY_FAILED] certificate verify failed: unable to get local issuer certificate (_ssl.c:1076)>\n",
      "Start downloading:  Kbmv94BqZzU\n",
      "Error in download video: <urlopen error [SSL: CERTIFICATE_VERIFY_FAILED] certificate verify failed: unable to get local issuer certificate (_ssl.c:1076)>\n",
      "Start downloading:  LFMlCcsLdKA\n",
      "Error in download video: <urlopen error [SSL: CERTIFICATE_VERIFY_FAILED] certificate verify failed: unable to get local issuer certificate (_ssl.c:1076)>\n",
      "Already trimmed:  ixq5OGYjjmA\n",
      "Start trimming:  j2_AKSjeQy0\n",
      "Error in trimming: ffmpeg error (see stderr output for detail)\n",
      "Finish trimming:  j2_AKSjeQy0\n",
      "Already trimmed:  J_faWIyCzdc\n",
      "Already trimmed:  Kbmv94BqZzU\n",
      "Start trimming:  LFMlCcsLdKA\n",
      "Error in trimming: ffmpeg error (see stderr output for detail)\n",
      "Finish trimming:  LFMlCcsLdKA\n"
     ]
    }
   ],
   "source": [
    "download('dataset/kinetics_700_val.csv', folders['validate'])"
   ]
  },
  {
   "cell_type": "markdown",
   "metadata": {},
   "source": [
    "### Download of Test\n",
    "Make a test download of a five videos from test\n",
    "___\n",
    "\n",
    "The videos path is `dataset/kinetics_700_test.csv` and the target path is the variable `TEST_VIDEOS_PATH`."
   ]
  },
  {
   "cell_type": "code",
   "execution_count": 17,
   "metadata": {},
   "outputs": [
    {
     "name": "stdout",
     "output_type": "stream",
     "text": [
      "Start downloading:  6dEpI75FOeo\n",
      "Error in download video: <urlopen error [SSL: CERTIFICATE_VERIFY_FAILED] certificate verify failed: unable to get local issuer certificate (_ssl.c:1076)>\n",
      "Start downloading:  15H3EqaHVi0\n",
      "Error in download video: <urlopen error [SSL: CERTIFICATE_VERIFY_FAILED] certificate verify failed: unable to get local issuer certificate (_ssl.c:1076)>\n",
      "Start downloading:  d6Ko4hm8M8E\n",
      "Error in download video: <urlopen error [SSL: CERTIFICATE_VERIFY_FAILED] certificate verify failed: unable to get local issuer certificate (_ssl.c:1076)>\n",
      "Start downloading:  -SakeFNtM0s\n",
      "Error in download video: <urlopen error [SSL: CERTIFICATE_VERIFY_FAILED] certificate verify failed: unable to get local issuer certificate (_ssl.c:1076)>\n",
      "Start downloading:  at3mGS-FAVg\n",
      "Error in download video: <urlopen error [SSL: CERTIFICATE_VERIFY_FAILED] certificate verify failed: unable to get local issuer certificate (_ssl.c:1076)>\n",
      "Start downloading:  0-qpI81QREc\n",
      "Error in download video: <urlopen error [SSL: CERTIFICATE_VERIFY_FAILED] certificate verify failed: unable to get local issuer certificate (_ssl.c:1076)>\n",
      "Start downloading:  G5naKwYvSFM\n",
      "Error in download video: <urlopen error [SSL: CERTIFICATE_VERIFY_FAILED] certificate verify failed: unable to get local issuer certificate (_ssl.c:1076)>\n",
      "Start downloading:  JlaQtvL6tgQ\n",
      "Error in download video: <urlopen error [SSL: CERTIFICATE_VERIFY_FAILED] certificate verify failed: unable to get local issuer certificate (_ssl.c:1076)>\n",
      "Already trimmed:  6dEpI75FOeo\n",
      "Start trimming:  15H3EqaHVi0\n",
      "Error in trimming: ffmpeg error (see stderr output for detail)\n",
      "Finish trimming:  15H3EqaHVi0\n",
      "Already trimmed:  d6Ko4hm8M8E\n",
      "Already trimmed:  -SakeFNtM0s\n",
      "Already trimmed:  at3mGS-FAVg\n",
      "Already trimmed:  0-qpI81QREc\n",
      "Already trimmed:  G5naKwYvSFM\n",
      "Already trimmed:  JlaQtvL6tgQ\n"
     ]
    }
   ],
   "source": [
    "download('dataset/kinetics_700_test.csv', folders['test'], heads=8, test=True)"
   ]
  }
 ],
 "metadata": {
  "kernelspec": {
   "display_name": "Python 3",
   "language": "python",
   "name": "python3"
  },
  "language_info": {
   "codemirror_mode": {
    "name": "ipython",
    "version": 3
   },
   "file_extension": ".py",
   "mimetype": "text/x-python",
   "name": "python",
   "nbconvert_exporter": "python",
   "pygments_lexer": "ipython3",
   "version": "3.7.4"
  }
 },
 "nbformat": 4,
 "nbformat_minor": 2
}
