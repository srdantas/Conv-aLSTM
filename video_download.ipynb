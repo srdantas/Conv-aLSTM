{
 "cells": [
  {
   "cell_type": "code",
   "execution_count": 1,
   "metadata": {
    "collapsed": false,
    "deletable": true,
    "editable": true
   },
   "outputs": [
    {
     "name": "stderr",
     "output_type": "stream",
     "text": [
      "mkdir: não foi possível criar o diretório “dataset”: Arquivo existe\n",
      "  % Total    % Received % Xferd  Average Speed   Time    Time     Time  Current\n",
      "                                 Dload  Upload   Total   Spent    Left  Speed\n",
      "\r",
      "  0     0    0     0    0     0      0      0 --:--:-- --:--:-- --:--:--     0\r",
      "  0 21.7M    0 25851    0     0  33836      0  0:11:15 --:--:--  0:11:15 33792\r",
      " 78 21.7M   78 17.1M    0     0  10.9M      0  0:00:01  0:00:01 --:--:-- 10.8M\r",
      "100 21.7M  100 21.7M    0     0  12.1M      0  0:00:01  0:00:01 --:--:-- 12.1M\n"
     ]
    }
   ],
   "source": [
    "%%bash\n",
    "mkdir datasetp\n",
    "curl https://storage.googleapis.com/deepmind-media/research/Kinetics_700.zip --output dataset/kinects_700.zip"
   ]
  },
  {
   "cell_type": "code",
   "execution_count": 2,
   "metadata": {
    "collapsed": false,
    "deletable": true,
    "editable": true
   },
   "outputs": [
    {
     "name": "stdout",
     "output_type": "stream",
     "text": [
      "Archive:  kinects_700.zip\n"
     ]
    },
    {
     "name": "stderr",
     "output_type": "stream",
     "text": [
      "replace kinetics_700_readme.txt? [y]es, [n]o, [A]ll, [N]one, [r]ename:  NULL\n",
      "(EOF or read error, treating as \"[N]one\" ...)\n"
     ]
    }
   ],
   "source": [
    "%%bash\n",
    "cd dataset\n",
    "unzip kinects_700.zip"
   ]
  },
  {
   "cell_type": "code",
   "execution_count": 3,
   "metadata": {
    "collapsed": false,
    "deletable": true,
    "editable": true
   },
   "outputs": [
    {
     "name": "stdout",
     "output_type": "stream",
     "text": [
      "Archive:  kinetics_700_train.zip\n"
     ]
    },
    {
     "name": "stderr",
     "output_type": "stream",
     "text": [
      "replace kinetics_700_train.csv? [y]es, [n]o, [A]ll, [N]one, [r]ename: error:  invalid response [unzip kin]\n",
      "replace kinetics_700_train.csv? [y]es, [n]o, [A]ll, [N]one, [r]ename: error:  invalid response [etics_700]\n",
      "replace kinetics_700_train.csv? [y]es, [n]o, [A]ll, [N]one, [r]ename: error:  invalid response [_test.zip]\n",
      "replace kinetics_700_train.csv? [y]es, [n]o, [A]ll, [N]one, [r]ename: error:  invalid response [{ENTER}]\n",
      "replace kinetics_700_train.csv? [y]es, [n]o, [A]ll, [N]one, [r]ename: error:  invalid response [unzip kin]\n",
      "replace kinetics_700_train.csv? [y]es, [n]o, [A]ll, [N]one, [r]ename: error:  invalid response [etics_700]\n",
      "replace kinetics_700_train.csv? [y]es, [n]o, [A]ll, [N]one, [r]ename: error:  invalid response [_val.zip]\n",
      "replace kinetics_700_train.csv? [y]es, [n]o, [A]ll, [N]one, [r]ename:  NULL\n",
      "(EOF or read error, treating as \"[N]one\" ...)\n"
     ]
    }
   ],
   "source": [
    "%%bash\n",
    "cd dataset\n",
    "unzip kinetics_700_train.zip\n",
    "unzip kinetics_700_test.zip\n",
    "unzip kinetics_700_val.zip"
   ]
  },
  {
   "cell_type": "code",
   "execution_count": 4,
   "metadata": {
    "collapsed": true,
    "deletable": true,
    "editable": true
   },
   "outputs": [],
   "source": [
    "import pandas as pd\n",
    "import argparse\n",
    "import os\n",
    "import subprocess\n",
    "import pytube"
   ]
  },
  {
   "cell_type": "code",
   "execution_count": 5,
   "metadata": {
    "collapsed": true,
    "deletable": true,
    "editable": true
   },
   "outputs": [],
   "source": [
    "REQUIRED_COLUMNS = ['label', 'youtube_id', 'time_start', 'time_end', 'split', 'is_cc']\n",
    "TRIM_FORMAT = '%06d'\n",
    "URL_BASE = 'https://www.youtube.com/watch?v='\n",
    "\n",
    "VIDEO_EXTENSION = '.mp4'\n",
    "VIDEO_FORMAT = 'mp4'"
   ]
  },
  {
   "cell_type": "code",
   "execution_count": 21,
   "metadata": {
    "collapsed": true,
    "deletable": true,
    "editable": true
   },
   "outputs": [],
   "source": [
    "BASE_PATH = os.path.join('/', 'media' ,os.environ['USER'] ,'DATA','kinects')\n",
    "\n",
    "TRAIN_VIDEOS_PATH = os.path.join(BASE_PATH, 'train')\n",
    "VALIDATE_VIDEOS_PATH = os.path.join(BASE_PATH, 'validate')\n",
    "TEST_VIDEOS_PATH = os.path.join(BASE_PATH, 'test')"
   ]
  },
  {
   "cell_type": "code",
   "execution_count": 7,
   "metadata": {
    "collapsed": false,
    "deletable": true,
    "editable": true
   },
   "outputs": [],
   "source": [
    "if not os.path.exists(BASE_PATH):\n",
    "    os.mkdir(BASE_PATH)\n",
    "else:\n",
    "    print(f'Path {BASE_PATH} already exists!')"
   ]
  },
  {
   "cell_type": "code",
   "execution_count": 9,
   "metadata": {
    "collapsed": true,
    "deletable": true,
    "editable": true
   },
   "outputs": [],
   "source": [
    "def create_file_structure(path, folders_names):\n",
    "    mapping = {}\n",
    "    if not os.path.exists(path):\n",
    "        os.mkdir(path)\n",
    "    for name in folders_names:\n",
    "        dir_ = os.path.join(path, name)\n",
    "        if not os.path.exists(dir_):\n",
    "            os.mkdir(dir_)\n",
    "        mapping[name] = dir_\n",
    "    return mapping"
   ]
  },
  {
   "cell_type": "code",
   "execution_count": 39,
   "metadata": {
    "collapsed": true,
    "deletable": true,
    "editable": true
   },
   "outputs": [],
   "source": [
    "def trim(row, label_to_dir, test=False):\n",
    "    label = row['label'] if not test else ''\n",
    "    filename = row['youtube_id']\n",
    "    time_start = row['time_start']\n",
    "    time_end = row['time_end']\n",
    "    \n",
    "    output_path = label_to_dir['tmp'] if trim else label_to_dir[label]\n",
    "    \n",
    "    start = str(time_start)\n",
    "    end = str(time_end - time_start)\n",
    "\n",
    "    input_filename = os.path.join(output_path, filename + VIDEO_EXTENSION)\n",
    "    output_filename = os.path.join(label_to_dir[label],\n",
    "                                   filename + '_{}_{}'.format(start, end) + VIDEO_EXTENSION)\n",
    "\n",
    "    if os.path.exists(output_filename):\n",
    "        print('Already trimmed: ', filename)\n",
    "    else:\n",
    "        print('Start trimming: ', filename)\n",
    "        command = 'ffmpeg -i \"{input_filename}\" ' \\\n",
    "                  '-ss {time_start} ' \\\n",
    "                  '-t {time_end} ' \\\n",
    "                  '-c:v libx264 -c:a copy -threads 1 ' \\\n",
    "                  '\"{output_filename}\"'.format(\n",
    "                       input_filename=input_filename,\n",
    "                       time_start=start,\n",
    "                       time_end=end,\n",
    "                       output_filename=output_filename\n",
    "                   )\n",
    "        try:\n",
    "            subprocess.check_output(command, shell=True)\n",
    "        except subprocess.CalledProcessError as e:\n",
    "            print(f'Error {e} while trimming: ', filename)\n",
    "            return False\n",
    "        print('Finish trimming: ', filename)"
   ]
  },
  {
   "cell_type": "code",
   "execution_count": 40,
   "metadata": {
    "collapsed": true,
    "deletable": true,
    "editable": true
   },
   "outputs": [],
   "source": [
    "def download_clip(row, label_to_dir, test=False):\n",
    "    label = row['label'] if not test else ''\n",
    "    filename = row['youtube_id']\n",
    "    time_start = row['time_start']\n",
    "    time_end = row['time_end']\n",
    "\n",
    "    output_path = label_to_dir['tmp'] if trim else label_to_dir[label]\n",
    "\n",
    "    if not os.path.exists(os.path.join(output_path, filename + VIDEO_EXTENSION)):\n",
    "        print('Start downloading: ', filename)\n",
    "        try:\n",
    "            pytube.YouTube(URL_BASE + filename) \\\n",
    "                .streams \\\n",
    "                .filter(subtype=VIDEO_FORMAT) \\\n",
    "                .first() \\\n",
    "                .download(output_path, filename)\n",
    "            print('Finish downloading: ', filename)\n",
    "        except KeyError as e:\n",
    "            print(f'Key Error {e}')\n",
    "            return\n",
    "        except Exception as e:\n",
    "            print(f'Error in download video: {e}')\n",
    "            return\n",
    "    else:\n",
    "        print('Already downloaded: ', filename)"
   ]
  },
  {
   "cell_type": "markdown",
   "metadata": {},
   "source": [
    "## Donwload\n",
    "Create a method to make a download and trim the videos. Repair that I delete the `tmp` file."
   ]
  },
  {
   "cell_type": "code",
   "execution_count": 12,
   "metadata": {
    "collapsed": true,
    "deletable": true,
    "editable": true
   },
   "outputs": [],
   "source": [
    "import shutil"
   ]
  },
  {
   "cell_type": "code",
   "execution_count": 46,
   "metadata": {
    "collapsed": false,
    "deletable": true,
    "editable": true
   },
   "outputs": [],
   "source": [
    "def top_download(path_csv, target, to_download=5, test=False):\n",
    "    links_dataframes = pd.read_csv(path_csv).head(to_download)\n",
    "    \n",
    "    if not test:\n",
    "        folders_names = links_dataframes['label'].unique().tolist() + ['tmp']\n",
    "        label_to_dir = create_file_structure(path=target, folders_names=folders_names)\n",
    "\n",
    "        [download_clip(row, label_to_dir) for _, row in links_dataframes.iterrows()]\n",
    "        [trim(row, label_to_dir) for _, row in links_dataframes.iterrows()]\n",
    "        \n",
    "        shutil.rmtree(label_to_dir['tmp'])\n",
    "    else:\n",
    "        folders_names = ['tmp', '']\n",
    "        label_to_dir = create_file_structure(path=target, folders_names=folders_names)\n",
    "        \n",
    "        [download_clip(row, label_to_dir, test=True) for _, row in links_dataframes.iterrows()]\n",
    "        [trim(row, label_to_dir, test=True) for _, row in links_dataframes.iterrows()]\n",
    "        \n",
    "        shutil.rmtree(label_to_dir['tmp'])"
   ]
  },
  {
   "cell_type": "markdown",
   "metadata": {},
   "source": [
    "### Download of Train test\n",
    "Make a test download of a five videos from train\n",
    "___\n",
    "\n",
    "The videos path is `dataset/kinetics_700_train.csv` and the target path is the variable `TRAIN_VIDEOS_PATH`."
   ]
  },
  {
   "cell_type": "code",
   "execution_count": 24,
   "metadata": {
    "collapsed": false
   },
   "outputs": [
    {
     "name": "stdout",
     "output_type": "stream",
     "text": [
      "Start downloading:  oJCxnjaCoyI\n",
      "Finish downloading:  oJCxnjaCoyI\n",
      "Processed 1 out of 0\n",
      "Start downloading:  XtbeP16BJdQ\n",
      "Finish downloading:  XtbeP16BJdQ\n",
      "Processed 2 out of 0\n",
      "Start downloading:  XXulvmGzw60\n",
      "Finish downloading:  XXulvmGzw60\n",
      "Processed 3 out of 0\n",
      "Start downloading:  -3B32lodo2M\n",
      "Error in download video: HTTP Error 403: Forbidden\n",
      "Start downloading:  -7kbO0v4hag\n",
      "Finish downloading:  -7kbO0v4hag\n",
      "Processed 5 out of 0\n",
      "Already trimmed:  oJCxnjaCoyI\n",
      "Already trimmed:  XtbeP16BJdQ\n",
      "Already trimmed:  XXulvmGzw60\n",
      "Start trimming:  -3B32lodo2M\n",
      "Error Command 'ffmpeg -i \"/media/renato/DATA/kinects/train/tmp/-3B32lodo2M.mp4\" -ss 59 -t 10 -c:v libx264 -c:a copy -threads 1 \"/media/renato/DATA/kinects/train/abseiling/-3B32lodo2M_59_10.mp4\"' returned non-zero exit status 1. while trimming:  -3B32lodo2M\n",
      "Already trimmed:  -7kbO0v4hag\n"
     ]
    }
   ],
   "source": [
    "head_download('dataset/kinetics_700_train.csv', TRAIN_VIDEOS_PATH)"
   ]
  },
  {
   "cell_type": "markdown",
   "metadata": {},
   "source": [
    "### Download of Validate test\n",
    "Make a test download of a five videos from train\n",
    "___\n",
    "\n",
    "The videos path is `dataset/kinetics_700_val.csv` and the target path is the variable `VALIDATE_VIDEOS_PATH`."
   ]
  },
  {
   "cell_type": "code",
   "execution_count": 25,
   "metadata": {
    "collapsed": false,
    "deletable": true,
    "editable": true
   },
   "outputs": [
    {
     "name": "stdout",
     "output_type": "stream",
     "text": [
      "Start downloading:  ixq5OGYjjmA\n",
      "Finish downloading:  ixq5OGYjjmA\n",
      "Processed 1 out of 0\n",
      "Start downloading:  j2_AKSjeQy0\n",
      "Error in download video: HTTP Error 403: Forbidden\n",
      "Start downloading:  J_faWIyCzdc\n",
      "Finish downloading:  J_faWIyCzdc\n",
      "Processed 3 out of 0\n",
      "Start downloading:  Kbmv94BqZzU\n",
      "Finish downloading:  Kbmv94BqZzU\n",
      "Processed 4 out of 0\n",
      "Start downloading:  LFMlCcsLdKA\n",
      "Error in download video: HTTP Error 403: Forbidden\n",
      "Start trimming:  ixq5OGYjjmA\n",
      "Finish trimming:  ixq5OGYjjmA\n",
      "Start trimming:  j2_AKSjeQy0\n",
      "Error Command 'ffmpeg -i \"/media/renato/DATA/kinects/validate/tmp/j2_AKSjeQy0.mp4\" -ss 1 -t 10 -c:v libx264 -c:a copy -threads 1 \"/media/renato/DATA/kinects/validate/abseiling/j2_AKSjeQy0_1_10.mp4\"' returned non-zero exit status 1. while trimming:  j2_AKSjeQy0\n",
      "Start trimming:  J_faWIyCzdc\n",
      "Finish trimming:  J_faWIyCzdc\n",
      "Start trimming:  Kbmv94BqZzU\n",
      "Finish trimming:  Kbmv94BqZzU\n",
      "Start trimming:  LFMlCcsLdKA\n",
      "Error Command 'ffmpeg -i \"/media/renato/DATA/kinects/validate/tmp/LFMlCcsLdKA.mp4\" -ss 126 -t 10 -c:v libx264 -c:a copy -threads 1 \"/media/renato/DATA/kinects/validate/abseiling/LFMlCcsLdKA_126_10.mp4\"' returned non-zero exit status 1. while trimming:  LFMlCcsLdKA\n"
     ]
    }
   ],
   "source": [
    "head_download('dataset/kinetics_700_val.csv', VALIDATE_VIDEOS_PATH)"
   ]
  },
  {
   "cell_type": "markdown",
   "metadata": {},
   "source": [
    "### Download of Test\n",
    "Make a test download of a five videos from test\n",
    "___\n",
    "\n",
    "The videos path is `dataset/kinetics_700_test.csv` and the target path is the variable `TEST_VIDEOS_PATH`."
   ]
  },
  {
   "cell_type": "code",
   "execution_count": 48,
   "metadata": {
    "collapsed": false,
    "deletable": true,
    "editable": true
   },
   "outputs": [
    {
     "name": "stdout",
     "output_type": "stream",
     "text": [
      "Start downloading:  6dEpI75FOeo\n",
      "Finish downloading:  6dEpI75FOeo\n",
      "Start downloading:  15H3EqaHVi0\n",
      "Error in download video: HTTP Error 403: Forbidden\n",
      "Start downloading:  d6Ko4hm8M8E\n",
      "Finish downloading:  d6Ko4hm8M8E\n",
      "Start downloading:  -SakeFNtM0s\n",
      "Finish downloading:  -SakeFNtM0s\n",
      "Start downloading:  at3mGS-FAVg\n",
      "Finish downloading:  at3mGS-FAVg\n",
      "Start downloading:  0-qpI81QREc\n",
      "Finish downloading:  0-qpI81QREc\n",
      "Start downloading:  G5naKwYvSFM\n",
      "Finish downloading:  G5naKwYvSFM\n",
      "Start downloading:  JlaQtvL6tgQ\n",
      "Finish downloading:  JlaQtvL6tgQ\n",
      "Already trimmed:  6dEpI75FOeo\n",
      "Start trimming:  15H3EqaHVi0\n",
      "Error Command 'ffmpeg -i \"/media/renato/DATA/kinects/test/tmp/15H3EqaHVi0.mp4\" -ss 8 -t 10 -c:v libx264 -c:a copy -threads 1 \"/media/renato/DATA/kinects/test/15H3EqaHVi0_8_10.mp4\"' returned non-zero exit status 1. while trimming:  15H3EqaHVi0\n",
      "Already trimmed:  d6Ko4hm8M8E\n",
      "Already trimmed:  -SakeFNtM0s\n",
      "Already trimmed:  at3mGS-FAVg\n",
      "Start trimming:  0-qpI81QREc\n",
      "Finish trimming:  0-qpI81QREc\n",
      "Start trimming:  G5naKwYvSFM\n",
      "Finish trimming:  G5naKwYvSFM\n",
      "Start trimming:  JlaQtvL6tgQ\n",
      "Finish trimming:  JlaQtvL6tgQ\n"
     ]
    }
   ],
   "source": [
    "top_download('dataset/kinetics_700_test.csv', TEST_VIDEOS_PATH, to_download=8, test=True)"
   ]
  }
 ],
 "metadata": {
  "kernelspec": {
   "display_name": "Python 3",
   "language": "python",
   "name": "python3"
  },
  "language_info": {
   "codemirror_mode": {
    "name": "ipython",
    "version": 3
   },
   "file_extension": ".py",
   "mimetype": "text/x-python",
   "name": "python",
   "nbconvert_exporter": "python",
   "pygments_lexer": "ipython3",
   "version": "3.6.8"
  }
 },
 "nbformat": 4,
 "nbformat_minor": 2
}
