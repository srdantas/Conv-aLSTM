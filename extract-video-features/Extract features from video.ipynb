{
 "cells": [
  {
   "cell_type": "code",
   "execution_count": 1,
   "metadata": {},
   "outputs": [],
   "source": [
    "import videoio\n",
    "from PIL import Image\n",
    "import numpy as np\n",
    "from sklearn import datasets\n",
    "import tensorflow as tf\n",
    "import os\n",
    "import uuid"
   ]
  },
  {
   "cell_type": "code",
   "execution_count": 2,
   "metadata": {},
   "outputs": [
    {
     "name": "stdout",
     "output_type": "stream",
     "text": [
      "WARNING:tensorflow:From <ipython-input-2-17bb7203622b>:1: is_gpu_available (from tensorflow.python.framework.test_util) is deprecated and will be removed in a future version.\n",
      "Instructions for updating:\n",
      "Use `tf.config.list_physical_devices('GPU')` instead.\n"
     ]
    },
    {
     "data": {
      "text/plain": [
       "True"
      ]
     },
     "execution_count": 2,
     "metadata": {},
     "output_type": "execute_result"
    }
   ],
   "source": [
    "tf.test.is_gpu_available()"
   ]
  },
  {
   "cell_type": "markdown",
   "metadata": {},
   "source": [
    "## Create path for features"
   ]
  },
  {
   "cell_type": "code",
   "execution_count": 3,
   "metadata": {},
   "outputs": [],
   "source": [
    "def create_path(path):\n",
    "    if not os.path.exists(path):\n",
    "        os.mkdir(path)"
   ]
  },
  {
   "cell_type": "code",
   "execution_count": 11,
   "metadata": {},
   "outputs": [],
   "source": [
    "DATASET_PATH_TRAIN = '/home/dantas/kinetics/train'\n",
    "DATASET_PATH_VALIDATION = '/home/dantas/kinetics/validation'\n",
    "DATASET_PATH_TEST = '/home/dantas/kinetics/test'"
   ]
  },
  {
   "cell_type": "code",
   "execution_count": 12,
   "metadata": {},
   "outputs": [],
   "source": [
    "FEATURES_PATH_TRAIN = '/media/DATA/features/train'\n",
    "FEATURES_PATH_VALIDATION = '/media/DATA/features/validation'\n",
    "FEATURES_PATH_TEST = '/media/DATA/features/test'"
   ]
  },
  {
   "cell_type": "code",
   "execution_count": 13,
   "metadata": {},
   "outputs": [],
   "source": [
    "create_path('/media/DATA/features')\n",
    "create_path(FEATURES_PATH_TRAIN)\n",
    "create_path(FEATURES_PATH_VALIDATION)\n",
    "create_path(FEATURES_PATH_TEST)"
   ]
  },
  {
   "cell_type": "markdown",
   "metadata": {},
   "source": [
    "## Create model"
   ]
  },
  {
   "cell_type": "code",
   "execution_count": 7,
   "metadata": {},
   "outputs": [],
   "source": [
    "inception_model = tf.keras.applications.InceptionV3(include_top=False, weights='imagenet')"
   ]
  },
  {
   "cell_type": "markdown",
   "metadata": {},
   "source": [
    "## Extract features for `train` and `validation`"
   ]
  },
  {
   "cell_type": "code",
   "execution_count": 8,
   "metadata": {},
   "outputs": [],
   "source": [
    "def generate_and_save_features(path, dataset, model):\n",
    "    for target, item in zip(dataset.target, dataset.filenames):\n",
    "        create_path(f'{path}/{dataset.target_names[target]}')\n",
    "        \n",
    "        frames = videoio.videoread(item, output_resolution=(299, 299))\n",
    "        frames = np.array(frames)\n",
    "\n",
    "        video_features = np.empty((0, 8, 8, 2048))\n",
    "        for chunk in np.array_split(frames, 3):\n",
    "            chunk_features = model(chunk)\n",
    "            video_features = np.concatenate((video_features, chunk_features))\n",
    "        \n",
    "        name = uuid.uuid4()\n",
    "        np.save(f'{path}/{dataset.target_names[target]}/{name}.npy', video_features)"
   ]
  },
  {
   "cell_type": "markdown",
   "metadata": {},
   "source": [
    "### Create dataset"
   ]
  },
  {
   "cell_type": "code",
   "execution_count": 14,
   "metadata": {},
   "outputs": [],
   "source": [
    "dataset_train = datasets.load_files(DATASET_PATH_TRAIN)\n",
    "dataset_validation = datasets.load_files(DATASET_PATH_VALIDATION)"
   ]
  },
  {
   "cell_type": "markdown",
   "metadata": {},
   "source": [
    "### Extract and save features"
   ]
  },
  {
   "cell_type": "code",
   "execution_count": 15,
   "metadata": {},
   "outputs": [],
   "source": [
    "generate_and_save_features(FEATURES_PATH_TRAIN, dataset_train, inception_model)"
   ]
  },
  {
   "cell_type": "code",
   "execution_count": 16,
   "metadata": {},
   "outputs": [],
   "source": [
    "generate_and_save_features(FEATURES_PATH_VALIDATION, dataset_validation, inception_model)"
   ]
  },
  {
   "cell_type": "markdown",
   "metadata": {},
   "source": [
    "## Extract features for `test`"
   ]
  },
  {
   "cell_type": "code",
   "execution_count": 17,
   "metadata": {
    "scrolled": true
   },
   "outputs": [],
   "source": [
    "for item in os.listdir(DATASET_PATH_TEST):\n",
    "    if item != 'tmp':\n",
    "        frames = videoio.videoread(f'{DATASET_PATH_TEST}/{item}', output_resolution=(299, 299))\n",
    "        frames = np.array(frames)\n",
    "\n",
    "        video_features = np.empty((0, 8, 8, 2048))\n",
    "        for chunk in np.array_split(frames, 3):\n",
    "            chunk_features = inception_model(chunk)\n",
    "            video_features = np.concatenate((video_features, chunk_features))\n",
    "\n",
    "        name = uuid.uuid4()\n",
    "        np.save(f'{FEATURES_PATH_TEST}/{name}.npy', video_features)"
   ]
  }
 ],
 "metadata": {
  "kernelspec": {
   "display_name": "Python 3",
   "language": "python",
   "name": "python3"
  },
  "language_info": {
   "codemirror_mode": {
    "name": "ipython",
    "version": 3
   },
   "file_extension": ".py",
   "mimetype": "text/x-python",
   "name": "python",
   "nbconvert_exporter": "python",
   "pygments_lexer": "ipython3",
   "version": "3.8.5"
  }
 },
 "nbformat": 4,
 "nbformat_minor": 4
}
